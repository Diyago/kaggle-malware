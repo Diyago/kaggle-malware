{
 "cells": [
  {
   "cell_type": "raw",
   "metadata": {},
   "source": [
    "auc mean: 0.73513, auc std: 0.00038, auc overall: 0.73474\n",
    "ALL FOLDS: [0.73444, 0.73556, 0.7352, 0.73506, 0.73537]"
   ]
  },
  {
   "cell_type": "code",
   "execution_count": 5,
   "metadata": {},
   "outputs": [
    {
     "data": {
      "text/plain": [
       "1269"
      ]
     },
     "execution_count": 5,
     "metadata": {},
     "output_type": "execute_result"
    }
   ],
   "source": [
    "import gc\n",
    "gc.collect()"
   ]
  },
  {
   "cell_type": "code",
   "execution_count": 10,
   "metadata": {},
   "outputs": [],
   "source": [
    "kag.df_train.head()\n",
    "if 5244810 in kag.df_train.index:\n",
    "            kag.df_train.loc[5244810,'AvSigVersion'] = '1.273.1144.0'\n",
    "            kag.df_train['AvSigVersion'].cat.remove_categories('1.2&#x17;3.1144.0',inplace=True)"
   ]
  },
  {
   "cell_type": "code",
   "execution_count": 1,
   "metadata": {},
   "outputs": [
    {
     "name": "stdout",
     "output_type": "stream",
     "text": [
      "Total Feature Eng Tue Feb 19 20:53:24 2019\n",
      "making bins Tue Feb 19 20:56:23 2019\n"
     ]
    }
   ],
   "source": [
    "from kaggle import Kaggle\n",
    "import pandas as pd\n",
    "from numba import jit\n",
    "%matplotlib inline\n",
    "# Create Kaggle Object\n",
    "kag = Kaggle(data_path='data/', metric='auc')\n",
    "# Read Train Data with Target and ID columns already known\n",
    "kag.read_train_data(train_name='train.csv', sep=',', target_colname='HasDetections', id_colname='MachineIdentifier')\n",
    "kag.read_test_data()\n",
    "\n",
    "kag.create_validation_split(n_folds=5, stratified=True)\n",
    "kag.general_feature_engineering(train_only=False)"
   ]
  },
  {
   "cell_type": "code",
   "execution_count": 2,
   "metadata": {},
   "outputs": [
    {
     "name": "stdout",
     "output_type": "stream",
     "text": [
      "************************** FOLD 1 ************************** \n",
      "\t Tue Feb 19 20:56:23 2019\n",
      "Target en coding\n",
      "AppVersion_1; AppVersion_2; AppVersion_3; AppVersion; SMode; Census_OSVersion; Census_OSVersion_3; OsBuildLab; EngineVersion; EngineVersion_2; skipped EngineVersion_3; GeoNameIdentifier; OsSuite; AvSigVersion; skipped OsPlatformSubRelease; skipped OsPlatformSubRelease; skipped SkuEdition; IeVerIdentifier; AVProductStatesIdentifier; CityIdentifier; CountryIdentifier; Census_OEMNameIdentifier; Census_OEMModelIdentifier; Census_ProcessorModelIdentifier; Census_InternalBatteryNumberOfCharges; Census_FirmwareVersionIdentifier; AvSigVersion_2; monitor_dims; skipped Census_OSBuildRevision_OsBuildLab; Census_OSBuildRevision__SmartScreen; Census_OSBuildRevision__AVProductsInstalled; OsBuildLab__Census_OSBuildRevision; OsBuildLab__SmartScreen; OsBuildLab__AVProductsInstalled; skipped SmartScreen__Census_OSBuildRevision; skipped SmartScreen__OsBuildLab; skipped AVProductsInstalled__Census_OSBuildRevision; skipped AVProductsInstalled__OsBuildLab; Finished encoding\n"
     ]
    },
    {
     "name": "stderr",
     "output_type": "stream",
     "text": [
      "/home/dex/anaconda3/lib/python3.6/site-packages/lightgbm/engine.py:116: UserWarning: Found `num_boost_round` in params. Will use it instead of argument\n",
      "  warnings.warn(\"Found `{}` in params. Will use it instead of argument\".format(alias))\n",
      "/home/dex/anaconda3/lib/python3.6/site-packages/lightgbm/engine.py:121: UserWarning: Found `early_stopping_rounds` in params. Will use it instead of argument\n",
      "  warnings.warn(\"Found `{}` in params. Will use it instead of argument\".format(alias))\n",
      "/home/dex/anaconda3/lib/python3.6/site-packages/lightgbm/basic.py:1186: UserWarning: Using categorical_feature in Dataset.\n",
      "  warnings.warn('Using categorical_feature in Dataset.')\n",
      "/home/dex/anaconda3/lib/python3.6/site-packages/lightgbm/basic.py:752: UserWarning: categorical_feature in param dict is overridden.\n",
      "  warnings.warn('categorical_feature in param dict is overridden.')\n"
     ]
    },
    {
     "name": "stdout",
     "output_type": "stream",
     "text": [
      "Training until validation scores don't improve for 50 rounds.\n",
      "[100]\ttraining's binary_logloss: 0.608075\ttraining's auc: 0.723937\tvalid_1's binary_logloss: 0.609108\tvalid_1's auc: 0.72218\n",
      "[200]\ttraining's binary_logloss: 0.600873\ttraining's auc: 0.732882\tvalid_1's binary_logloss: 0.603938\tvalid_1's auc: 0.728379\n",
      "[300]\ttraining's binary_logloss: 0.59709\ttraining's auc: 0.737685\tvalid_1's binary_logloss: 0.602029\tvalid_1's auc: 0.730708\n",
      "[400]\ttraining's binary_logloss: 0.594494\ttraining's auc: 0.740953\tvalid_1's binary_logloss: 0.600976\tvalid_1's auc: 0.731983\n",
      "[500]\ttraining's binary_logloss: 0.592655\ttraining's auc: 0.743254\tvalid_1's binary_logloss: 0.600433\tvalid_1's auc: 0.732649\n",
      "Did not meet early stopping. Best iteration is:\n",
      "[500]\ttraining's binary_logloss: 0.592655\ttraining's auc: 0.743254\tvalid_1's binary_logloss: 0.600433\tvalid_1's auc: 0.732649\n",
      "0.7326486515333859\n",
      "************************** FOLD 2 ************************** \n",
      "\t Tue Feb 19 21:23:26 2019\n",
      "Target en coding\n",
      "AppVersion_1; AppVersion_2; AppVersion_3; AppVersion; SMode; Census_OSVersion; Census_OSVersion_3; OsBuildLab; EngineVersion; EngineVersion_2; skipped EngineVersion_3; GeoNameIdentifier; OsSuite; AvSigVersion; skipped OsPlatformSubRelease; skipped OsPlatformSubRelease; skipped SkuEdition; IeVerIdentifier; AVProductStatesIdentifier; CityIdentifier; CountryIdentifier; Census_OEMNameIdentifier; Census_OEMModelIdentifier; Census_ProcessorModelIdentifier; Census_InternalBatteryNumberOfCharges; Census_FirmwareVersionIdentifier; AvSigVersion_2; monitor_dims; skipped Census_OSBuildRevision_OsBuildLab; Census_OSBuildRevision__SmartScreen; Census_OSBuildRevision__AVProductsInstalled; OsBuildLab__Census_OSBuildRevision; OsBuildLab__SmartScreen; OsBuildLab__AVProductsInstalled; skipped SmartScreen__Census_OSBuildRevision; skipped SmartScreen__OsBuildLab; skipped AVProductsInstalled__Census_OSBuildRevision; skipped AVProductsInstalled__OsBuildLab; Finished encoding\n"
     ]
    },
    {
     "name": "stderr",
     "output_type": "stream",
     "text": [
      "/home/dex/anaconda3/lib/python3.6/site-packages/lightgbm/engine.py:116: UserWarning: Found `num_boost_round` in params. Will use it instead of argument\n",
      "  warnings.warn(\"Found `{}` in params. Will use it instead of argument\".format(alias))\n",
      "/home/dex/anaconda3/lib/python3.6/site-packages/lightgbm/engine.py:121: UserWarning: Found `early_stopping_rounds` in params. Will use it instead of argument\n",
      "  warnings.warn(\"Found `{}` in params. Will use it instead of argument\".format(alias))\n",
      "/home/dex/anaconda3/lib/python3.6/site-packages/lightgbm/basic.py:1186: UserWarning: Using categorical_feature in Dataset.\n",
      "  warnings.warn('Using categorical_feature in Dataset.')\n",
      "/home/dex/anaconda3/lib/python3.6/site-packages/lightgbm/basic.py:752: UserWarning: categorical_feature in param dict is overridden.\n",
      "  warnings.warn('categorical_feature in param dict is overridden.')\n"
     ]
    },
    {
     "name": "stdout",
     "output_type": "stream",
     "text": [
      "Training until validation scores don't improve for 50 rounds.\n",
      "[100]\ttraining's binary_logloss: 0.608117\ttraining's auc: 0.723915\tvalid_1's binary_logloss: 0.609218\tvalid_1's auc: 0.721896\n",
      "[200]\ttraining's binary_logloss: 0.601002\ttraining's auc: 0.732757\tvalid_1's binary_logloss: 0.60423\tvalid_1's auc: 0.727852\n",
      "[300]\ttraining's binary_logloss: 0.59725\ttraining's auc: 0.737496\tvalid_1's binary_logloss: 0.602367\tvalid_1's auc: 0.730105\n",
      "[400]\ttraining's binary_logloss: 0.594569\ttraining's auc: 0.740868\tvalid_1's binary_logloss: 0.601244\tvalid_1's auc: 0.731485\n",
      "[500]\ttraining's binary_logloss: 0.592723\ttraining's auc: 0.743174\tvalid_1's binary_logloss: 0.600704\tvalid_1's auc: 0.732131\n",
      "Did not meet early stopping. Best iteration is:\n",
      "[500]\ttraining's binary_logloss: 0.592723\ttraining's auc: 0.743174\tvalid_1's binary_logloss: 0.600704\tvalid_1's auc: 0.732131\n",
      "0.7321310612674047\n",
      "************************** FOLD 3 ************************** \n",
      "\t Tue Feb 19 21:50:41 2019\n",
      "Target en coding\n",
      "AppVersion_1; AppVersion_2; AppVersion_3; AppVersion; SMode; Census_OSVersion; Census_OSVersion_3; OsBuildLab; EngineVersion; EngineVersion_2; skipped EngineVersion_3; GeoNameIdentifier; OsSuite; AvSigVersion; skipped OsPlatformSubRelease; skipped OsPlatformSubRelease; skipped SkuEdition; IeVerIdentifier; AVProductStatesIdentifier; CityIdentifier; CountryIdentifier; Census_OEMNameIdentifier; Census_OEMModelIdentifier; Census_ProcessorModelIdentifier; Census_InternalBatteryNumberOfCharges; Census_FirmwareVersionIdentifier; AvSigVersion_2; monitor_dims; skipped Census_OSBuildRevision_OsBuildLab; Census_OSBuildRevision__SmartScreen; Census_OSBuildRevision__AVProductsInstalled; OsBuildLab__Census_OSBuildRevision; OsBuildLab__SmartScreen; OsBuildLab__AVProductsInstalled; skipped SmartScreen__Census_OSBuildRevision; skipped SmartScreen__OsBuildLab; skipped AVProductsInstalled__Census_OSBuildRevision; skipped AVProductsInstalled__OsBuildLab; Finished encoding\n"
     ]
    },
    {
     "name": "stderr",
     "output_type": "stream",
     "text": [
      "/home/dex/anaconda3/lib/python3.6/site-packages/lightgbm/engine.py:116: UserWarning: Found `num_boost_round` in params. Will use it instead of argument\n",
      "  warnings.warn(\"Found `{}` in params. Will use it instead of argument\".format(alias))\n",
      "/home/dex/anaconda3/lib/python3.6/site-packages/lightgbm/engine.py:121: UserWarning: Found `early_stopping_rounds` in params. Will use it instead of argument\n",
      "  warnings.warn(\"Found `{}` in params. Will use it instead of argument\".format(alias))\n",
      "/home/dex/anaconda3/lib/python3.6/site-packages/lightgbm/basic.py:1186: UserWarning: Using categorical_feature in Dataset.\n",
      "  warnings.warn('Using categorical_feature in Dataset.')\n",
      "/home/dex/anaconda3/lib/python3.6/site-packages/lightgbm/basic.py:752: UserWarning: categorical_feature in param dict is overridden.\n",
      "  warnings.warn('categorical_feature in param dict is overridden.')\n"
     ]
    },
    {
     "name": "stdout",
     "output_type": "stream",
     "text": [
      "Training until validation scores don't improve for 50 rounds.\n",
      "[100]\ttraining's binary_logloss: 0.607887\ttraining's auc: 0.724217\tvalid_1's binary_logloss: 0.609671\tvalid_1's auc: 0.72143\n",
      "[200]\ttraining's binary_logloss: 0.600774\ttraining's auc: 0.733064\tvalid_1's binary_logloss: 0.604767\tvalid_1's auc: 0.72729\n",
      "[300]\ttraining's binary_logloss: 0.596872\ttraining's auc: 0.737963\tvalid_1's binary_logloss: 0.602737\tvalid_1's auc: 0.729742\n",
      "[400]\ttraining's binary_logloss: 0.594222\ttraining's auc: 0.741246\tvalid_1's binary_logloss: 0.601642\tvalid_1's auc: 0.731068\n",
      "[500]\ttraining's binary_logloss: 0.592201\ttraining's auc: 0.743749\tvalid_1's binary_logloss: 0.601006\tvalid_1's auc: 0.73184\n",
      "Did not meet early stopping. Best iteration is:\n",
      "[500]\ttraining's binary_logloss: 0.592201\ttraining's auc: 0.743749\tvalid_1's binary_logloss: 0.601006\tvalid_1's auc: 0.73184\n",
      "0.7318397808935287\n",
      "************************** FOLD 4 ************************** \n",
      "\t Tue Feb 19 22:17:32 2019\n",
      "Target en coding\n",
      "AppVersion_1; AppVersion_2; AppVersion_3; AppVersion; SMode; Census_OSVersion; Census_OSVersion_3; OsBuildLab; EngineVersion; EngineVersion_2; skipped EngineVersion_3; GeoNameIdentifier; OsSuite; AvSigVersion; skipped OsPlatformSubRelease; skipped OsPlatformSubRelease; skipped SkuEdition; IeVerIdentifier; AVProductStatesIdentifier; CityIdentifier; CountryIdentifier; Census_OEMNameIdentifier; Census_OEMModelIdentifier; Census_ProcessorModelIdentifier; Census_InternalBatteryNumberOfCharges; Census_FirmwareVersionIdentifier; AvSigVersion_2; monitor_dims; skipped Census_OSBuildRevision_OsBuildLab; Census_OSBuildRevision__SmartScreen; Census_OSBuildRevision__AVProductsInstalled; OsBuildLab__Census_OSBuildRevision; OsBuildLab__SmartScreen; OsBuildLab__AVProductsInstalled; skipped SmartScreen__Census_OSBuildRevision; skipped SmartScreen__OsBuildLab; skipped AVProductsInstalled__Census_OSBuildRevision; skipped AVProductsInstalled__OsBuildLab; Finished encoding\n"
     ]
    },
    {
     "name": "stderr",
     "output_type": "stream",
     "text": [
      "/home/dex/anaconda3/lib/python3.6/site-packages/lightgbm/engine.py:116: UserWarning: Found `num_boost_round` in params. Will use it instead of argument\n",
      "  warnings.warn(\"Found `{}` in params. Will use it instead of argument\".format(alias))\n",
      "/home/dex/anaconda3/lib/python3.6/site-packages/lightgbm/engine.py:121: UserWarning: Found `early_stopping_rounds` in params. Will use it instead of argument\n",
      "  warnings.warn(\"Found `{}` in params. Will use it instead of argument\".format(alias))\n",
      "/home/dex/anaconda3/lib/python3.6/site-packages/lightgbm/basic.py:1186: UserWarning: Using categorical_feature in Dataset.\n",
      "  warnings.warn('Using categorical_feature in Dataset.')\n",
      "/home/dex/anaconda3/lib/python3.6/site-packages/lightgbm/basic.py:752: UserWarning: categorical_feature in param dict is overridden.\n",
      "  warnings.warn('categorical_feature in param dict is overridden.')\n"
     ]
    },
    {
     "name": "stdout",
     "output_type": "stream",
     "text": [
      "Training until validation scores don't improve for 50 rounds.\n",
      "[100]\ttraining's binary_logloss: 0.608175\ttraining's auc: 0.723762\tvalid_1's binary_logloss: 0.609303\tvalid_1's auc: 0.721932\n",
      "[200]\ttraining's binary_logloss: 0.600968\ttraining's auc: 0.732737\tvalid_1's binary_logloss: 0.60413\tvalid_1's auc: 0.728198\n",
      "[300]\ttraining's binary_logloss: 0.597051\ttraining's auc: 0.737674\tvalid_1's binary_logloss: 0.602095\tvalid_1's auc: 0.730671\n",
      "[400]\ttraining's binary_logloss: 0.594479\ttraining's auc: 0.740862\tvalid_1's binary_logloss: 0.601041\tvalid_1's auc: 0.731928\n",
      "[500]\ttraining's binary_logloss: 0.592503\ttraining's auc: 0.743319\tvalid_1's binary_logloss: 0.60039\tvalid_1's auc: 0.732715\n",
      "Did not meet early stopping. Best iteration is:\n",
      "[500]\ttraining's binary_logloss: 0.592503\ttraining's auc: 0.743319\tvalid_1's binary_logloss: 0.60039\tvalid_1's auc: 0.732715\n",
      "0.7327145869276487\n",
      "************************** FOLD 5 ************************** \n",
      "\t Tue Feb 19 22:44:44 2019\n",
      "Target en coding\n",
      "AppVersion_1; AppVersion_2; AppVersion_3; AppVersion; SMode; Census_OSVersion; Census_OSVersion_3; OsBuildLab; EngineVersion; EngineVersion_2; skipped EngineVersion_3; GeoNameIdentifier; OsSuite; AvSigVersion; skipped OsPlatformSubRelease; skipped OsPlatformSubRelease; skipped SkuEdition; IeVerIdentifier; AVProductStatesIdentifier; CityIdentifier; CountryIdentifier; Census_OEMNameIdentifier; Census_OEMModelIdentifier; Census_ProcessorModelIdentifier; Census_InternalBatteryNumberOfCharges; Census_FirmwareVersionIdentifier; AvSigVersion_2; monitor_dims; skipped Census_OSBuildRevision_OsBuildLab; Census_OSBuildRevision__SmartScreen; Census_OSBuildRevision__AVProductsInstalled; OsBuildLab__Census_OSBuildRevision; OsBuildLab__SmartScreen; OsBuildLab__AVProductsInstalled; skipped SmartScreen__Census_OSBuildRevision; skipped SmartScreen__OsBuildLab; skipped AVProductsInstalled__Census_OSBuildRevision; skipped AVProductsInstalled__OsBuildLab; Finished encoding\n"
     ]
    },
    {
     "name": "stderr",
     "output_type": "stream",
     "text": [
      "/home/dex/anaconda3/lib/python3.6/site-packages/lightgbm/engine.py:116: UserWarning: Found `num_boost_round` in params. Will use it instead of argument\n",
      "  warnings.warn(\"Found `{}` in params. Will use it instead of argument\".format(alias))\n",
      "/home/dex/anaconda3/lib/python3.6/site-packages/lightgbm/engine.py:121: UserWarning: Found `early_stopping_rounds` in params. Will use it instead of argument\n",
      "  warnings.warn(\"Found `{}` in params. Will use it instead of argument\".format(alias))\n",
      "/home/dex/anaconda3/lib/python3.6/site-packages/lightgbm/basic.py:1186: UserWarning: Using categorical_feature in Dataset.\n",
      "  warnings.warn('Using categorical_feature in Dataset.')\n",
      "/home/dex/anaconda3/lib/python3.6/site-packages/lightgbm/basic.py:752: UserWarning: categorical_feature in param dict is overridden.\n",
      "  warnings.warn('categorical_feature in param dict is overridden.')\n"
     ]
    },
    {
     "name": "stdout",
     "output_type": "stream",
     "text": [
      "Training until validation scores don't improve for 50 rounds.\n",
      "[100]\ttraining's binary_logloss: 0.608065\ttraining's auc: 0.723854\tvalid_1's binary_logloss: 0.609474\tvalid_1's auc: 0.721795\n",
      "[200]\ttraining's binary_logloss: 0.600899\ttraining's auc: 0.732842\tvalid_1's binary_logloss: 0.604485\tvalid_1's auc: 0.727807\n",
      "[300]\ttraining's binary_logloss: 0.59708\ttraining's auc: 0.737642\tvalid_1's binary_logloss: 0.602506\tvalid_1's auc: 0.73021\n",
      "[400]\ttraining's binary_logloss: 0.594487\ttraining's auc: 0.740889\tvalid_1's binary_logloss: 0.601468\tvalid_1's auc: 0.731467\n",
      "[500]\ttraining's binary_logloss: 0.592487\ttraining's auc: 0.743394\tvalid_1's binary_logloss: 0.600785\tvalid_1's auc: 0.732308\n",
      "Did not meet early stopping. Best iteration is:\n",
      "[500]\ttraining's binary_logloss: 0.592487\ttraining's auc: 0.743394\tvalid_1's binary_logloss: 0.600785\tvalid_1's auc: 0.732308\n",
      "0.7323084092431086\n",
      "auc mean: 0.73233, auc std: 0.00033, auc overall: 0.732\n",
      "ALL FOLDS: [0.73265, 0.73213, 0.73184, 0.73271, 0.73231]\n"
     ]
    },
    {
     "data": {
      "image/png": "[encoded data removed]",
      "text/plain": [
       "<Figure size 432x288 with 1 Axes>"
      ]
     },
     "metadata": {
      "needs_background": "light"
     },
     "output_type": "display_data"
    }
   ],
   "source": [
    "'''\n",
    "params = {'objective':'binary', \"boosting\": \"gbdt\", 'learning_rate': 0.05, 'max_depth': -1, \n",
    "         \"feature_fraction\": 0.8, \"bagging_freq\": 5, \"bagging_fraction\": 0.8 , \"bagging_seed\": 11,\n",
    "         \"metric\": 'auc', \"lambda_l1\": 0.1, 'lambda_l2': 0.1,'num_leaves': 60, 'min_data_in_leaf': 42,\n",
    "          \"verbosity\": -1,'num_leaves': 256,\"feature_fraction\": 0.8,\n",
    "          \"n_jobs\" : 8,    #'sub_feature': 0.9,   'sub_row':0.9,\n",
    "          \"random_state\": 3,\n",
    "           \"num_boost_round\": 500,\n",
    "          \"early_stopping_rounds\": 50}\n",
    "'''\n",
    "params = {\n",
    "'max_depth':-1,\n",
    "                                   'learning_rate':0.05,\n",
    "                                   'num_leaves':100,\n",
    "                                   #colsample_bytree:0.28,\n",
    "                                   'objective':'binary', \n",
    "                                   'n_jobs':8,\"random_state\": 3,\n",
    "    'sub_feature': 0.9,   'sub_row':0.9,\n",
    "           \"num_boost_round\": 500,\n",
    "          \"early_stopping_rounds\": 50\n",
    "}\n",
    "\n",
    "prediction, feature_importance = kag.run_single_model_validation_test_pred(model_name='lightgbm',\n",
    "                                                            params=params, is_make_test_preds  = True, \n",
    "                                                            averaging = 'usual', # usual - rank\n",
    "                                                            is_plot_feature_importance = True,\n",
    "                                                            oof_preds_path='')\n",
    "submission = pd.read_csv('./data/sample_submission.csv')\n",
    "submission['HasDetections'] = prediction\n",
    "submission.to_csv('lgb_rank.csv', index=False)\n",
    "\n",
    "feature_importance.to_csv('feat_impt.csv')"
   ]
  },
  {
   "cell_type": "code",
   "execution_count": null,
   "metadata": {},
   "outputs": [],
   "source": [
    "import os\n",
    "os.system(\"shutdown now -h\")"
   ]
  },
  {
   "cell_type": "code",
   "execution_count": null,
   "metadata": {},
   "outputs": [],
   "source": []
  },
  {
   "cell_type": "code",
   "execution_count": 7,
   "metadata": {},
   "outputs": [
    {
     "name": "stdout",
     "output_type": "stream",
     "text": [
      "************************** FOLD 1 **************************\n",
      "[0]\ttrain-auc:0.72341+0.00464833\ttest-auc:0.690028+0.00933701\n",
      "[50]\ttrain-auc:0.876934+0.00454843\ttest-auc:0.725266+0.00696124\n"
     ]
    },
    {
     "name": "stderr",
     "output_type": "stream",
     "text": [
      "/usr/local/lib/python3.5/dist-packages/numpy/core/fromnumeric.py:52: FutureWarning: 'argmax' is deprecated. Use 'idxmax' instead. The behavior of 'argmax' will be corrected to return the positional maximum in the future. Use 'series.values.argmax' to get the position of the maximum now.\n",
      "  return getattr(obj, method)(*args, **kwds)\n"
     ]
    },
    {
     "name": "stdout",
     "output_type": "stream",
     "text": [
      "Best Iteration: 60\n",
      "0.7458752423515378\n",
      "************************** FOLD 2 **************************\n",
      "[0]\ttrain-auc:0.726342+0.00366855\ttest-auc:0.688941+0.00140703\n",
      "[50]\ttrain-auc:0.879546+0.0029343\ttest-auc:0.729213+0.0031834\n",
      "[100]\ttrain-auc:0.9343+0.000927095\ttest-auc:0.729638+0.00225026\n",
      "Best Iteration: 87\n",
      "0.7332484322367749\n",
      "************************** FOLD 3 **************************\n",
      "[0]\ttrain-auc:0.717133+0.0119537\ttest-auc:0.681674+0.00923283\n",
      "[50]\ttrain-auc:0.876646+0.00367825\ttest-auc:0.730528+0.00483306\n",
      "[100]\ttrain-auc:0.934798+0.00268595\ttest-auc:0.730951+0.00356462\n",
      "Best Iteration: 127\n",
      "0.7380085132259045\n",
      "************************** FOLD 4 **************************\n",
      "[0]\ttrain-auc:0.725549+0.00238688\ttest-auc:0.688564+0.00067813\n",
      "[50]\ttrain-auc:0.877899+0.00399425\ttest-auc:0.730316+0.00482027\n",
      "Best Iteration: 63\n",
      "0.7344492421612866\n",
      "************************** FOLD 5 **************************\n",
      "[0]\ttrain-auc:0.724051+0.000509871\ttest-auc:0.685681+0.00681387\n",
      "[50]\ttrain-auc:0.879152+0.00183171\ttest-auc:0.731255+0.00593175\n",
      "[100]\ttrain-auc:0.93326+0.000990828\ttest-auc:0.731341+0.00814296\n",
      "Best Iteration: 70\n",
      "0.7402446413652661\n",
      "auc mean: 0.73837, auc std: 0.00451, auc overall: 0.73386\n",
      "ALL FOLDS: [0.74588, 0.73325, 0.73801, 0.73445, 0.74024]\n"
     ]
    }
   ],
   "source": [
    "# Run Single (e.g. XGBoost) model. With additional FE inside folds.\n",
    "params = {'booster': 'gbtree',\n",
    "            'eta': .1,\n",
    "            'colsample_bytree': 0.8,\n",
    "            'subsample': 0.8,\n",
    "            'seed': 123,\n",
    "            'nthread': 3,\n",
    "            'max_depth': 6,\n",
    "            'min_child_weight': 1,\n",
    "            'objective': 'binary:logistic',\n",
    "            'eval_metric': 'auc',\n",
    "            'silent': 1\n",
    "        }\n",
    "score_mean, score_std, overall_score = kag.run_single_model_validation(model_name='xgboost',\n",
    "                                                                       params=params, \n",
    "                                                                       oof_preds_path='')"
   ]
  },
  {
   "cell_type": "code",
   "execution_count": 8,
   "metadata": {},
   "outputs": [],
   "source": [
    "# # Find best params with a higher LR (for a speed). Takes loong time\n",
    "# best_params = kag.find_optimal_params(model_name='xgboost')\n",
    "\n",
    "# # Rerun model with best params and LR corrected\n",
    "# best_params['eta'] = 0.1\n",
    "# kag.run_single_model_validation(model_name='xgboost', params=best_params, oof_preds_path='')"
   ]
  },
  {
   "cell_type": "markdown",
   "metadata": {},
   "source": [
    "### 2nd Level Modeling"
   ]
  },
  {
   "cell_type": "code",
   "execution_count": 9,
   "metadata": {},
   "outputs": [
    {
     "name": "stdout",
     "output_type": "stream",
     "text": [
      "************************** FOLD 1 **************************\n",
      "[0]\ttrain-auc:0.72341+0.00464833\ttest-auc:0.690028+0.00933701\n",
      "[50]\ttrain-auc:0.876934+0.00454843\ttest-auc:0.725266+0.00696124\n"
     ]
    },
    {
     "name": "stderr",
     "output_type": "stream",
     "text": [
      "/usr/local/lib/python3.5/dist-packages/numpy/core/fromnumeric.py:52: FutureWarning: 'argmax' is deprecated. Use 'idxmax' instead. The behavior of 'argmax' will be corrected to return the positional maximum in the future. Use 'series.values.argmax' to get the position of the maximum now.\n",
      "  return getattr(obj, method)(*args, **kwds)\n"
     ]
    },
    {
     "name": "stdout",
     "output_type": "stream",
     "text": [
      "Best Iteration: 60\n",
      "0.7458752423515378\n",
      "************************** FOLD 2 **************************\n",
      "[0]\ttrain-auc:0.726342+0.00366855\ttest-auc:0.688941+0.00140703\n",
      "[50]\ttrain-auc:0.879546+0.0029343\ttest-auc:0.729213+0.0031834\n",
      "[100]\ttrain-auc:0.9343+0.000927095\ttest-auc:0.729638+0.00225026\n",
      "Best Iteration: 87\n",
      "0.7332484322367749\n",
      "************************** FOLD 3 **************************\n",
      "[0]\ttrain-auc:0.717133+0.0119537\ttest-auc:0.681674+0.00923283\n",
      "[50]\ttrain-auc:0.876646+0.00367825\ttest-auc:0.730528+0.00483306\n",
      "[100]\ttrain-auc:0.934798+0.00268595\ttest-auc:0.730951+0.00356462\n",
      "Best Iteration: 127\n",
      "0.7380085132259045\n",
      "************************** FOLD 4 **************************\n",
      "[0]\ttrain-auc:0.725549+0.00238688\ttest-auc:0.688564+0.00067813\n",
      "[50]\ttrain-auc:0.877899+0.00399425\ttest-auc:0.730316+0.00482027\n",
      "Best Iteration: 63\n",
      "0.7344492421612866\n",
      "************************** FOLD 5 **************************\n",
      "[0]\ttrain-auc:0.724051+0.000509871\ttest-auc:0.685681+0.00681387\n",
      "[50]\ttrain-auc:0.879152+0.00183171\ttest-auc:0.731255+0.00593175\n",
      "[100]\ttrain-auc:0.93326+0.000990828\ttest-auc:0.731341+0.00814296\n",
      "Best Iteration: 70\n",
      "0.7402446413652661\n",
      "auc mean: 0.73837, auc std: 0.00451, auc overall: 0.73386\n",
      "ALL FOLDS: [0.74588, 0.73325, 0.73801, 0.73445, 0.74024]\n",
      "************************** FOLD 1 **************************\n",
      "[50]\tcv_agg's auc: 0.726617 + 0.00743435\n",
      "[100]\tcv_agg's auc: 0.729031 + 0.00575808\n",
      "Best Iteration: 121\n",
      "0.7444339723551009\n",
      "************************** FOLD 2 **************************\n",
      "[50]\tcv_agg's auc: 0.730124 + 0.00322483\n",
      "[100]\tcv_agg's auc: 0.73188 + 0.00145833\n",
      "[150]\tcv_agg's auc: 0.732903 + 0.00143023\n",
      "[200]\tcv_agg's auc: 0.732567 + 0.00245728\n",
      "Best Iteration: 225\n",
      "0.7344257920437461\n",
      "************************** FOLD 3 **************************\n",
      "[50]\tcv_agg's auc: 0.728805 + 0.00403659\n",
      "[100]\tcv_agg's auc: 0.731112 + 0.00267961\n",
      "[150]\tcv_agg's auc: 0.73027 + 0.00148354\n",
      "Best Iteration: 159\n",
      "0.7362433490422621\n",
      "************************** FOLD 4 **************************\n",
      "[50]\tcv_agg's auc: 0.728198 + 0.0055245\n",
      "[100]\tcv_agg's auc: 0.731003 + 0.00523603\n",
      "[150]\tcv_agg's auc: 0.731275 + 0.00524347\n",
      "Best Iteration: 166\n",
      "0.7330027073932662\n",
      "************************** FOLD 5 **************************\n",
      "[50]\tcv_agg's auc: 0.728458 + 0.0119731\n",
      "[100]\tcv_agg's auc: 0.729342 + 0.0115767\n",
      "[150]\tcv_agg's auc: 0.729262 + 0.0115454\n",
      "Best Iteration: 175\n",
      "0.7365599000939883\n",
      "auc mean: 0.73693, auc std: 0.00397, auc overall: 0.73297\n",
      "ALL FOLDS: [0.74443, 0.73443, 0.73624, 0.733, 0.73656]\n"
     ]
    },
    {
     "data": {
      "text/plain": [
       "(0.73693, 0.00397, 0.73297)"
      ]
     },
     "execution_count": 9,
     "metadata": {},
     "output_type": "execute_result"
    }
   ],
   "source": [
    "# Create Kaggle Object\n",
    "kag = Kaggle(data_path='data/', metric='auc')\n",
    "# Read Train Data with Target and ID columns already known\n",
    "kag.read_train_data(train_name='train.csv', sep='\\t', target_colname='0', id_colname='Unnamed: 0')\n",
    "# Perform FE which does not depend on Train/Test split\n",
    "kag.general_feature_engineering(train_only=True)\n",
    "\n",
    "# Run Single Models and Save OOF predictions\n",
    "xgb_params = {'booster': 'gbtree',\n",
    "            'eta': .1,\n",
    "            'colsample_bytree': 0.8,\n",
    "            'subsample': 0.8,\n",
    "            'seed': 123,\n",
    "            'nthread': 3,\n",
    "            'max_depth': 6,\n",
    "            'min_child_weight': 1,\n",
    "            'objective': 'binary:logistic',\n",
    "            'eval_metric': 'auc',\n",
    "            'silent': 1\n",
    "        }\n",
    "kag.run_single_model_validation(model_name='xgboost',\n",
    "                                params=xgb_params,\n",
    "                                oof_preds_path='oof_preds_level_1/xgboost_0.csv')\n",
    "\n",
    "lgb_params = {\n",
    "        'boosting_type': 'gbdt',\n",
    "        'objective': 'binary',\n",
    "        'metric': 'auc',\n",
    "        'num_leaves': 8,\n",
    "        'learning_rate': 0.1,\n",
    "        'feature_fraction': 0.9,\n",
    "        'bagging_fraction': 0.8,\n",
    "        'bagging_freq': 5,\n",
    "        'verbose': 0\n",
    "        }  \n",
    "kag.run_single_model_validation(model_name='lightgbm',\n",
    "                                params=lgb_params,\n",
    "                                oof_preds_path='oof_preds_level_1/lightgbm_0.csv')"
   ]
  },
  {
   "cell_type": "code",
   "execution_count": 10,
   "metadata": {},
   "outputs": [
    {
     "name": "stdout",
     "output_type": "stream",
     "text": [
      "************************** FOLD 1 **************************\n",
      "0.7487024408350564\n",
      "************************** FOLD 2 **************************\n",
      "0.7368546789896248\n",
      "************************** FOLD 3 **************************\n",
      "0.7420741486774094\n",
      "************************** FOLD 4 **************************\n",
      "0.7368555362721276\n",
      "************************** FOLD 5 **************************\n",
      "0.742443048641812\n",
      "auc mean: 0.74139, auc std: 0.00439, auc overall: 0.737\n",
      "ALL FOLDS: [0.7487, 0.73685, 0.74207, 0.73686, 0.74244]\n"
     ]
    },
    {
     "data": {
      "text/plain": [
       "(0.74139, 0.00439, 0.737)"
      ]
     },
     "execution_count": 10,
     "metadata": {},
     "output_type": "execute_result"
    }
   ],
   "source": [
    "# Run Second Level Model\n",
    "kag.run_stacked_model_validation(model_name='logistic_regression',\n",
    "                                 params=None,\n",
    "                                 prev_level_fold='oof_preds_level_1/',\n",
    "                                 oof_preds_path='')"
   ]
  },
  {
   "cell_type": "markdown",
   "metadata": {},
   "source": [
    "### Stacked Model Test Prediction"
   ]
  },
  {
   "cell_type": "code",
   "execution_count": 11,
   "metadata": {},
   "outputs": [
    {
     "name": "stdout",
     "output_type": "stream",
     "text": [
      "[0]\ttrain-auc:0.722864+0.00421065\ttest-auc:0.694596+0.00834651\n",
      "[50]\ttrain-auc:0.860283+0.00145325\ttest-auc:0.734999+0.00547926\n",
      "[100]\ttrain-auc:0.916391+0.0017179\ttest-auc:0.735714+0.00511333\n"
     ]
    },
    {
     "name": "stderr",
     "output_type": "stream",
     "text": [
      "/usr/local/lib/python3.5/dist-packages/numpy/core/fromnumeric.py:52: FutureWarning: 'argmax' is deprecated. Use 'idxmax' instead. The behavior of 'argmax' will be corrected to return the positional maximum in the future. Use 'series.values.argmax' to get the position of the maximum now.\n",
      "  return getattr(obj, method)(*args, **kwds)\n"
     ]
    },
    {
     "name": "stdout",
     "output_type": "stream",
     "text": [
      "Best Iteration: 144\n",
      "[50]\tcv_agg's auc: 0.730732 + 0.0023251\n",
      "[100]\tcv_agg's auc: 0.734091 + 0.00202989\n",
      "[150]\tcv_agg's auc: 0.735014 + 0.00177441\n",
      "[200]\tcv_agg's auc: 0.734382 + 0.00180827\n",
      "Best Iteration: 225\n"
     ]
    },
    {
     "data": {
      "text/html": [
       "<div>\n",
       "<style scoped>\n",
       "    .dataframe tbody tr th:only-of-type {\n",
       "        vertical-align: middle;\n",
       "    }\n",
       "\n",
       "    .dataframe tbody tr th {\n",
       "        vertical-align: top;\n",
       "    }\n",
       "\n",
       "    .dataframe thead th {\n",
       "        text-align: right;\n",
       "    }\n",
       "</style>\n",
       "<table border=\"1\" class=\"dataframe\">\n",
       "  <thead>\n",
       "    <tr style=\"text-align: right;\">\n",
       "      <th></th>\n",
       "      <th>index</th>\n",
       "      <th>stack_pred</th>\n",
       "    </tr>\n",
       "  </thead>\n",
       "  <tbody>\n",
       "    <tr>\n",
       "      <th>0</th>\n",
       "      <td>0</td>\n",
       "      <td>0.761878</td>\n",
       "    </tr>\n",
       "    <tr>\n",
       "      <th>1</th>\n",
       "      <td>1</td>\n",
       "      <td>0.147439</td>\n",
       "    </tr>\n",
       "    <tr>\n",
       "      <th>2</th>\n",
       "      <td>2</td>\n",
       "      <td>0.129632</td>\n",
       "    </tr>\n",
       "    <tr>\n",
       "      <th>3</th>\n",
       "      <td>3</td>\n",
       "      <td>0.127195</td>\n",
       "    </tr>\n",
       "    <tr>\n",
       "      <th>4</th>\n",
       "      <td>4</td>\n",
       "      <td>0.682124</td>\n",
       "    </tr>\n",
       "  </tbody>\n",
       "</table>\n",
       "</div>"
      ],
      "text/plain": [
       "   index  stack_pred\n",
       "0      0    0.761878\n",
       "1      1    0.147439\n",
       "2      2    0.129632\n",
       "3      3    0.127195\n",
       "4      4    0.682124"
      ]
     },
     "execution_count": 11,
     "metadata": {},
     "output_type": "execute_result"
    }
   ],
   "source": [
    "kag = Kaggle(data_path='data/', metric='auc')\n",
    "kag.read_train_data(train_name='train.csv', sep='\\t', target_colname='0', id_colname='Unnamed: 0')\n",
    "kag.read_test_data(test_name='train.csv')\n",
    "kag.general_feature_engineering(train_only=False)\n",
    "\n",
    "xgb_params = {'booster': 'gbtree',\n",
    "            'eta': .1,\n",
    "            'colsample_bytree': 0.8,\n",
    "            'subsample': 0.8,\n",
    "            'seed': 123,\n",
    "            'nthread': 3,\n",
    "            'max_depth': 6,\n",
    "            'min_child_weight': 1,\n",
    "            'objective': 'binary:logistic',\n",
    "            'eval_metric': 'auc',\n",
    "            'silent': 1\n",
    "        }\n",
    "\n",
    "test_preds_1, model_1 = kag.get_single_model_test_prediction(model_name='xgboost',\n",
    "                                                    params=xgb_params,\n",
    "                                                    preds_path='test_preds_level_1/xgboost_0.csv')\n",
    "\n",
    "lgb_params = {\n",
    "        'boosting_type': 'gbdt',\n",
    "        'objective': 'binary',\n",
    "        'metric': 'auc',\n",
    "        'num_leaves': 8,\n",
    "        'learning_rate': 0.1,\n",
    "        'feature_fraction': 0.9,\n",
    "        'bagging_fraction': 0.8,\n",
    "        'bagging_freq': 5,\n",
    "        'verbose': 0\n",
    "        }  \n",
    "test_preds_2, model_2 = kag.get_single_model_test_prediction(model_name='lightgbm',\n",
    "                                                    params=lgb_params,\n",
    "                                                    preds_path='test_preds_level_1/lightgbm_0.csv')\n",
    "\n",
    "# Run Second Level Model\n",
    "test_preds, model_stacked = kag.get_stacked_model_test_prediction(model_name='logistic_regression',\n",
    "                                               params=None,\n",
    "                                               prev_level_test_fold='test_preds_level_1/',\n",
    "                                               preds_path='test_preds_level_2/stack_pred.csv')\n",
    "test_preds.head()"
   ]
  }
 ],
 "metadata": {
  "kernelspec": {
   "display_name": "Python 3",
   "language": "python",
   "name": "python3"
  },
  "language_info": {
   "codemirror_mode": {
    "name": "ipython",
    "version": 3
   },
   "file_extension": ".py",
   "mimetype": "text/x-python",
   "name": "python",
   "nbconvert_exporter": "python",
   "pygments_lexer": "ipython3",
   "version": "3.6.8"
  }
 },
 "nbformat": 4,
 "nbformat_minor": 2
}
